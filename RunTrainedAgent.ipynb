{
 "cells": [
  {
   "cell_type": "markdown",
   "metadata": {},
   "source": [
    "## Run the agent with loaded Q-Table"
   ]
  },
  {
   "cell_type": "code",
   "execution_count": 1,
   "metadata": {},
   "outputs": [],
   "source": [
    "import gym\n",
    "import numpy as np\n",
    "from gym.envs.registration import register\n",
    "import matplotlib.pyplot as plt\n",
    "\n",
    "from environment.ResourceManagerEnvironment_v1_8 import ResourceManagerEnv\n",
    "from agent.QLearning import QLearningAgent"
   ]
  },
  {
   "cell_type": "code",
   "execution_count": 2,
   "metadata": {},
   "outputs": [],
   "source": [
    "register(\n",
    "    id='Resource-Manager-v1-8',\n",
    "    entry_point='environment.ResourceManagerEnvironment_v1_8:ResourceManagerEnv',\n",
    "    kwargs={\n",
    "        'grid_size': 20,            #set to desired grid size\n",
    "        'window_size': 300,         #set to desired window size\n",
    "        'num_water_resources': 10,  #set to desired number of water resources\n",
    "        'num_food_resources': 10,   #set to desired number of food resources\n",
    "        'render_mode': 'human',      #set to desired render mode ('human' or 'rgb_array')\n",
    "        'danger_mode': True,        #set to True to enable danger mode - spawn them lions!\n",
    "        'max_episode_steps': 1000  #set to desired max episode steps\n",
    "    },\n",
    ")\n"
   ]
  },
  {
   "cell_type": "markdown",
   "metadata": {},
   "source": [
    "Load the wanted Q-Table and Hyperparameters first\n",
    "\n",
    "Overwrite Hyperparameters for exploiting most of the time"
   ]
  },
  {
   "cell_type": "code",
   "execution_count": 3,
   "metadata": {},
   "outputs": [
    {
     "name": "stderr",
     "output_type": "stream",
     "text": [
      "c:\\Users\\denni\\.conda\\envs\\tf\\lib\\site-packages\\gym\\utils\\passive_env_checker.py:31: UserWarning: \u001b[33mWARN: A Box observation space has an unconventional shape (neither an image, nor a 1D vector). We recommend flattening the observation to have only a 1D vector or use a custom policy to properly process the data. Actual observation shape: (20, 20)\u001b[0m\n",
      "  logger.warn(\n",
      "c:\\Users\\denni\\.conda\\envs\\tf\\lib\\site-packages\\gym\\utils\\passive_env_checker.py:187: UserWarning: \u001b[33mWARN: Future gym versions will require that `Env.reset` can be passed `options` to allow the environment initialisation to be passed additional information.\u001b[0m\n",
      "  logger.warn(\n",
      "c:\\Users\\denni\\.conda\\envs\\tf\\lib\\site-packages\\gym\\utils\\passive_env_checker.py:141: UserWarning: \u001b[33mWARN: The obs returned by the `reset()` method was expecting numpy array dtype to be float32, actual type: float64\u001b[0m\n",
      "  logger.warn(\n",
      "c:\\Users\\denni\\.conda\\envs\\tf\\lib\\site-packages\\gym\\utils\\passive_env_checker.py:165: UserWarning: \u001b[33mWARN: The obs returned by the `reset()` method is not within the observation space.\u001b[0m\n",
      "  logger.warn(f\"{pre} is not within the observation space.\")\n",
      "c:\\Users\\denni\\.conda\\envs\\tf\\lib\\site-packages\\gym\\utils\\passive_env_checker.py:233: DeprecationWarning: `np.bool8` is a deprecated alias for `np.bool_`.  (Deprecated NumPy 1.24)\n",
      "  if not isinstance(terminated, (bool, np.bool8)):\n",
      "c:\\Users\\denni\\.conda\\envs\\tf\\lib\\site-packages\\gym\\utils\\passive_env_checker.py:137: UserWarning: \u001b[33mWARN: The obs returned by the `step()` method was expecting a numpy array, actual type: <class 'tuple'>\u001b[0m\n",
      "  logger.warn(\n",
      "c:\\Users\\denni\\.conda\\envs\\tf\\lib\\site-packages\\gym\\spaces\\box.py:227: UserWarning: \u001b[33mWARN: Casting input x to numpy array.\u001b[0m\n",
      "  logger.warn(\"Casting input x to numpy array.\")\n",
      "c:\\Users\\denni\\.conda\\envs\\tf\\lib\\site-packages\\gym\\utils\\passive_env_checker.py:165: UserWarning: \u001b[33mWARN: The obs returned by the `step()` method is not within the observation space.\u001b[0m\n",
      "  logger.warn(f\"{pre} is not within the observation space.\")\n"
     ]
    },
    {
     "name": "stdout",
     "output_type": "stream",
     "text": [
      "Episode 1, Total Steps: 223, Total Reward: -5557, Total Water Resource: -0.5, Total Food Resource: 109.5\n"
     ]
    },
    {
     "ename": "",
     "evalue": "",
     "output_type": "error",
     "traceback": [
      "\u001b[1;31mThe Kernel crashed while executing code in the the current cell or a previous cell. Please review the code in the cell(s) to identify a possible cause of the failure. Click <a href='https://aka.ms/vscodeJupyterKernelCrash'>here</a> for more info. View Jupyter <a href='command:jupyter.viewOutput'>log</a> for further details."
     ]
    }
   ],
   "source": [
    "\n",
    "env = gym.make('Resource-Manager-v1-8')\n",
    "\n",
    "#Hyperparameters:\n",
    "#load the hyperparameters from the saved results\n",
    "loaded_hyperparameters = np.genfromtxt('Results_11-12-2023_21-15-50_MoreReplayBuffer/Hyperparameters/hyperparameters.txt', dtype=None, delimiter='=', encoding=None)\n",
    "hyperparameters = {}\n",
    "\n",
    "#fill the hyperparameters dictionary\n",
    "for key, value in loaded_hyperparameters:\n",
    "    hyperparameters[key.strip()] = float(value)\n",
    "\n",
    "learning_rate = hyperparameters['learning_rate']\n",
    "discount_factor = hyperparameters['discount_factor']\n",
    "#exploration_prob = hyperparameters['exploration_prob']\n",
    "#epsilon_decay = hyperparameters['epsilon_decay']\n",
    "#Do not load, keep exporation at minimum (0.1)\n",
    "exploration_prob = 0.1\n",
    "epsilon_decay = 1\n",
    "replay_buffer_size = hyperparameters['replay_buffer_size']\n",
    "batch_size = hyperparameters['batch_size']\n",
    "\n",
    "#Load Q Table and Observation\n",
    "loaded_q_table = np.loadtxt(f'Results_11-12-2023_21-15-50_MoreReplayBuffer/q_table.txt')\n",
    "with open('Results_11-12-2023_21-15-50_MoreReplayBuffer/observation.txt', 'r') as file:\n",
    "    loaded_observation_str = file.read()\n",
    "loaded_observation_list = eval(loaded_observation_str)\n",
    "loaded_observation = np.array(loaded_observation_list)\n",
    "\n",
    "\n",
    "agent = QLearningAgent(env, learning_rate, discount_factor, exploration_prob, epsilon_decay, q_table=loaded_q_table)\n",
    "num_episodes = 1\n",
    "\n",
    "episode_rewards = []\n",
    "episode_water_resources = []\n",
    "episode_food_resources = []\n",
    "episode_max_steps = []\n",
    "\n",
    "for episode in range(num_episodes):\n",
    "    observation = env.reset(custom_observation=loaded_observation)\n",
    "    total_reward = 0\n",
    "\n",
    "    while True:\n",
    "            #select action using the Q-learning agent\n",
    "            action = agent.select_action(observation)\n",
    "            # Take a step in the environment\n",
    "            next_observation, reward, done, _, _ = env.step(action)\n",
    "            total_reward += reward\n",
    "            \n",
    "            observation = next_observation\n",
    "\n",
    "\n",
    "            if done:\n",
    "                break\n",
    "\n",
    "    episode_rewards.append(total_reward)\n",
    "    episode_water_resources.append(env.water_resource)\n",
    "    episode_food_resources.append(env.food_resource)\n",
    "    episode_max_steps.append(env.num_step)\n",
    "\n",
    "    print(f\"Episode {episode + 1}, Total Steps: {env.num_step}, Total Reward: {total_reward}, Total Water Resource: {env.water_resource}, Total Food Resource: {env.food_resource}\")"
   ]
  },
  {
   "cell_type": "code",
   "execution_count": null,
   "metadata": {},
   "outputs": [],
   "source": []
  }
 ],
 "metadata": {
  "kernelspec": {
   "display_name": "tf",
   "language": "python",
   "name": "python3"
  },
  "language_info": {
   "codemirror_mode": {
    "name": "ipython",
    "version": 3
   },
   "file_extension": ".py",
   "mimetype": "text/x-python",
   "name": "python",
   "nbconvert_exporter": "python",
   "pygments_lexer": "ipython3",
   "version": "3.10.9"
  }
 },
 "nbformat": 4,
 "nbformat_minor": 2
}
