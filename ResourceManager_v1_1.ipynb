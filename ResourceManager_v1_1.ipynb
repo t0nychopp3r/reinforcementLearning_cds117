{
 "cells": [
  {
   "cell_type": "markdown",
   "metadata": {},
   "source": [
    "### Reinforcement Learning - Resource Manager"
   ]
  },
  {
   "cell_type": "markdown",
   "metadata": {},
   "source": [
    "Kudos to:\n",
    "\n",
    "https://www.gymlibrary.dev/content/environment_creation/\n",
    "\n",
    "https://www.youtube.com/watch?v=bD6V3rcr_54&ab_channel=NicholasRenotte \n",
    "\n",
    "Version 1.0:\n",
    "\n",
    "- Export the Environment to python file\n",
    "    - Register it\n",
    "- Add Deep Learning with DQN\n",
    "\n"
   ]
  },
  {
   "cell_type": "markdown",
   "metadata": {},
   "source": [
    "### Imports"
   ]
  },
  {
   "cell_type": "code",
   "execution_count": 19,
   "metadata": {},
   "outputs": [],
   "source": [
    "import gym\n",
    "from gym import spaces\n",
    "import numpy as np\n",
    "import pygame\n",
    "from gym.envs.registration import register\n",
    "import tensorflow as tf\n",
    "from tensorflow import keras\n",
    "from tensorflow.keras import layers"
   ]
  },
  {
   "cell_type": "markdown",
   "metadata": {},
   "source": [
    "### Environment"
   ]
  },
  {
   "cell_type": "code",
   "execution_count": 39,
   "metadata": {},
   "outputs": [],
   "source": [
    "from ResourceManagerEnvironment import ResourceManagerEnv"
   ]
  },
  {
   "cell_type": "code",
   "execution_count": 40,
   "metadata": {},
   "outputs": [
    {
     "name": "stderr",
     "output_type": "stream",
     "text": [
      "c:\\Users\\denni\\.conda\\envs\\tf\\lib\\site-packages\\gym\\envs\\registration.py:498: UserWarning: \u001b[33mWARN: Overriding environment Resource-Manager-v1-1 already in registry.\u001b[0m\n",
      "  logger.warn(f\"Overriding environment {new_spec.id} already in registry.\")\n"
     ]
    }
   ],
   "source": [
    "#register the environment\n",
    "register(\n",
    "    id='Resource-Manager-v1-1',\n",
    "    #loading syntax: 'PythonFileName:EnvironmentClassName'\n",
    "    entry_point='ResourceManagerEnvironment:ResourceManagerEnv',\n",
    "    max_episode_steps=300,\n",
    ")\n"
   ]
  },
  {
   "cell_type": "code",
   "execution_count": 41,
   "metadata": {},
   "outputs": [
    {
     "name": "stderr",
     "output_type": "stream",
     "text": [
      "c:\\Users\\denni\\.conda\\envs\\tf\\lib\\site-packages\\gym\\utils\\passive_env_checker.py:31: UserWarning: \u001b[33mWARN: A Box observation space has an unconventional shape (neither an image, nor a 1D vector). We recommend flattening the observation to have only a 1D vector or use a custom policy to properly process the data. Actual observation shape: (10, 10)\u001b[0m\n",
      "  logger.warn(\n"
     ]
    }
   ],
   "source": [
    "env = gym.make('Resource-Manager-v1-1')"
   ]
  },
  {
   "cell_type": "markdown",
   "metadata": {},
   "source": [
    "## Deep Learning"
   ]
  },
  {
   "cell_type": "code",
   "execution_count": 48,
   "metadata": {},
   "outputs": [],
   "source": [
    "class DQNAgent:\n",
    "    def __init__(self, num_actions, grid_size, epsilon=1.0, epsilon_decay=0.995, min_epsilon=0.01, learning_rate=0.001, gamma=0.99):\n",
    "        #define number of action, here we have 4 actions: up, down, left, right\n",
    "        self.num_actions = num_actions\n",
    "        self.grid_size = grid_size\n",
    "\n",
    "        #hyperparameters\n",
    "        self.batch_size = 32\n",
    "        self.epsilon = epsilon\n",
    "        self.epsilon_decay = epsilon_decay\n",
    "        self.epsilon = epsilon\n",
    "        self.min_epsilon = min_epsilon\n",
    "        self.learning_rate = learning_rate\n",
    "        self.gamma = gamma\n",
    "\n",
    "        #define q_network and target_network\n",
    "        self.q_network = self.build_q_network()\n",
    "        self.target_network = self.build_q_network()\n",
    "\n",
    "    def build_q_network(self):\n",
    "        model = keras.Sequential([\n",
    "            keras.layers.Input(shape=(self.grid_size, self.grid_size)),  # Define the state shape\n",
    "            keras.layers.Dense(64, activation='relu'),\n",
    "            keras.layers.Dense(64, activation='relu'),\n",
    "            keras.layers.Dense(self.num_actions)  # Output layer with num_actions units\n",
    "            ])\n",
    "        model.compile(optimizer=keras.optimizers.Adam(learning_rate=self.learning_rate), loss='mse')\n",
    "        return model\n",
    "\n",
    "\n",
    "    def choose_action(self, state):\n",
    "        if np.random.rand() < self.epsilon:\n",
    "            #explore action space randomly\n",
    "            return np.random.randint(self.num_actions)\n",
    "        #exploit learned values\n",
    "        q_values = self.q_network(state[None, :])\n",
    "        return np.argmax(q_values[0])\n",
    "\n",
    "    def train(self, state, action, reward, next_state, done):\n",
    "        #state = np.array(state)\n",
    "        state = np.expand_dims(state, axis=0)\n",
    "        # Get the Q-values of the current state\n",
    "        q_values = self.q_network.predict(state)\n",
    "\n",
    "        # Calculate the target Q-values using the Bellman equation\n",
    "        if done:\n",
    "            q_values[0][action] = reward\n",
    "        else:\n",
    "            next_q_values = self.target_network.predict(next_state)\n",
    "            q_values[0][action] = reward + self.gamma * np.max(next_q_values)\n",
    "\n",
    "        # Train the Q-network using the updated Q-values\n",
    "        loss = self.q_network.train_on_batch(state, q_values)\n",
    "\n",
    "        return loss\n",
    "\n",
    "\n",
    "\n",
    "    def update_target_network(self):\n",
    "        self.target_network.set_weights(self.q_network.get_weights())\n",
    "\n",
    "    def decay_epsilon(self):\n",
    "        if self.epsilon > self.min_epsilon:\n",
    "            self.epsilon *= self.epsilon_decay\n"
   ]
  },
  {
   "cell_type": "code",
   "execution_count": 49,
   "metadata": {},
   "outputs": [],
   "source": [
    "num_actions = 4\n",
    "grid_size = 15\n",
    "\n",
    "env = ResourceManagerEnv(grid_size=grid_size)\n",
    "dqn_agent = DQNAgent(num_actions, grid_size=grid_size)"
   ]
  },
  {
   "cell_type": "code",
   "execution_count": 50,
   "metadata": {},
   "outputs": [
    {
     "ename": "ValueError",
     "evalue": "setting an array element with a sequence. The requested array has an inhomogeneous shape after 1 dimensions. The detected shape was (2,) + inhomogeneous part.",
     "output_type": "error",
     "traceback": [
      "\u001b[1;31m---------------------------------------------------------------------------\u001b[0m",
      "\u001b[1;31mValueError\u001b[0m                                Traceback (most recent call last)",
      "\u001b[1;32mc:\\Repos\\Private\\SharedProjects\\ReinforcementLearning_cds(117)\\reinforcementLearning_cds117\\ResourceManager_v1_1.ipynb Cell 12\u001b[0m line \u001b[0;36m1\n\u001b[0;32m     <a href='vscode-notebook-cell:/c%3A/Repos/Private/SharedProjects/ReinforcementLearning_cds%28117%29/reinforcementLearning_cds117/ResourceManager_v1_1.ipynb#X15sZmlsZQ%3D%3D?line=12'>13</a>\u001b[0m next_state, reward, done, _, info \u001b[39m=\u001b[39m env\u001b[39m.\u001b[39mstep(action)\n\u001b[0;32m     <a href='vscode-notebook-cell:/c%3A/Repos/Private/SharedProjects/ReinforcementLearning_cds%28117%29/reinforcementLearning_cds117/ResourceManager_v1_1.ipynb#X15sZmlsZQ%3D%3D?line=14'>15</a>\u001b[0m \u001b[39m# Train the agent using the observed experience\u001b[39;00m\n\u001b[1;32m---> <a href='vscode-notebook-cell:/c%3A/Repos/Private/SharedProjects/ReinforcementLearning_cds%28117%29/reinforcementLearning_cds117/ResourceManager_v1_1.ipynb#X15sZmlsZQ%3D%3D?line=15'>16</a>\u001b[0m dqn_agent\u001b[39m.\u001b[39;49mtrain(state, action, reward, next_state, done)\n\u001b[0;32m     <a href='vscode-notebook-cell:/c%3A/Repos/Private/SharedProjects/ReinforcementLearning_cds%28117%29/reinforcementLearning_cds117/ResourceManager_v1_1.ipynb#X15sZmlsZQ%3D%3D?line=17'>18</a>\u001b[0m \u001b[39m# Update the current state\u001b[39;00m\n\u001b[0;32m     <a href='vscode-notebook-cell:/c%3A/Repos/Private/SharedProjects/ReinforcementLearning_cds%28117%29/reinforcementLearning_cds117/ResourceManager_v1_1.ipynb#X15sZmlsZQ%3D%3D?line=18'>19</a>\u001b[0m state \u001b[39m=\u001b[39m next_state\n",
      "\u001b[1;32mc:\\Repos\\Private\\SharedProjects\\ReinforcementLearning_cds(117)\\reinforcementLearning_cds117\\ResourceManager_v1_1.ipynb Cell 12\u001b[0m line \u001b[0;36m4\n\u001b[0;32m     <a href='vscode-notebook-cell:/c%3A/Repos/Private/SharedProjects/ReinforcementLearning_cds%28117%29/reinforcementLearning_cds117/ResourceManager_v1_1.ipynb#X15sZmlsZQ%3D%3D?line=38'>39</a>\u001b[0m \u001b[39mdef\u001b[39;00m \u001b[39mtrain\u001b[39m(\u001b[39mself\u001b[39m, state, action, reward, next_state, done):\n\u001b[0;32m     <a href='vscode-notebook-cell:/c%3A/Repos/Private/SharedProjects/ReinforcementLearning_cds%28117%29/reinforcementLearning_cds117/ResourceManager_v1_1.ipynb#X15sZmlsZQ%3D%3D?line=39'>40</a>\u001b[0m     \u001b[39m#state = np.array(state)\u001b[39;00m\n\u001b[1;32m---> <a href='vscode-notebook-cell:/c%3A/Repos/Private/SharedProjects/ReinforcementLearning_cds%28117%29/reinforcementLearning_cds117/ResourceManager_v1_1.ipynb#X15sZmlsZQ%3D%3D?line=40'>41</a>\u001b[0m     state \u001b[39m=\u001b[39m np\u001b[39m.\u001b[39;49mexpand_dims(state, axis\u001b[39m=\u001b[39;49m\u001b[39m0\u001b[39;49m)\n\u001b[0;32m     <a href='vscode-notebook-cell:/c%3A/Repos/Private/SharedProjects/ReinforcementLearning_cds%28117%29/reinforcementLearning_cds117/ResourceManager_v1_1.ipynb#X15sZmlsZQ%3D%3D?line=41'>42</a>\u001b[0m     \u001b[39m# Get the Q-values of the current state\u001b[39;00m\n\u001b[0;32m     <a href='vscode-notebook-cell:/c%3A/Repos/Private/SharedProjects/ReinforcementLearning_cds%28117%29/reinforcementLearning_cds117/ResourceManager_v1_1.ipynb#X15sZmlsZQ%3D%3D?line=42'>43</a>\u001b[0m     q_values \u001b[39m=\u001b[39m \u001b[39mself\u001b[39m\u001b[39m.\u001b[39mq_network\u001b[39m.\u001b[39mpredict(state)\n",
      "File \u001b[1;32m<__array_function__ internals>:200\u001b[0m, in \u001b[0;36mexpand_dims\u001b[1;34m(*args, **kwargs)\u001b[0m\n",
      "File \u001b[1;32mc:\\Users\\denni\\.conda\\envs\\tf\\lib\\site-packages\\numpy\\lib\\shape_base.py:591\u001b[0m, in \u001b[0;36mexpand_dims\u001b[1;34m(a, axis)\u001b[0m\n\u001b[0;32m    589\u001b[0m     a \u001b[39m=\u001b[39m asarray(a)\n\u001b[0;32m    590\u001b[0m \u001b[39melse\u001b[39;00m:\n\u001b[1;32m--> 591\u001b[0m     a \u001b[39m=\u001b[39m asanyarray(a)\n\u001b[0;32m    593\u001b[0m \u001b[39mif\u001b[39;00m \u001b[39mtype\u001b[39m(axis) \u001b[39mnot\u001b[39;00m \u001b[39min\u001b[39;00m (\u001b[39mtuple\u001b[39m, \u001b[39mlist\u001b[39m):\n\u001b[0;32m    594\u001b[0m     axis \u001b[39m=\u001b[39m (axis,)\n",
      "\u001b[1;31mValueError\u001b[0m: setting an array element with a sequence. The requested array has an inhomogeneous shape after 1 dimensions. The detected shape was (2,) + inhomogeneous part."
     ]
    }
   ],
   "source": [
    "\n",
    "episodes = 100  # Number of episodes\n",
    "max_steps = 300  # Maximum steps per episode\n",
    "\n",
    "for episode in range(episodes):\n",
    "    state = env.reset()\n",
    "    done = False\n",
    "\n",
    "    for step in range(max_steps):\n",
    "        # Choose an action using the epsilon-greedy strategy (you may need to implement this in your DQNAgent class)\n",
    "        action = dqn_agent.choose_action(state)\n",
    "\n",
    "        # Take the chosen action and observe the next state, reward, and whether the episode is done\n",
    "        next_state, reward, done, _, info = env.step(action)\n",
    "\n",
    "        # Train the agent using the observed experience\n",
    "        dqn_agent.train(state, action, reward, next_state, done)\n",
    "\n",
    "        # Update the current state\n",
    "        state = next_state\n",
    "\n",
    "        if done:\n",
    "            break\n",
    "\n",
    "    # Perform any necessary updates after an episode (e.g., decay epsilon, update target network)\n",
    "    dqn_agent.decay_epsilon()\n",
    "    dqn_agent.update_target_network()\n"
   ]
  },
  {
   "cell_type": "markdown",
   "metadata": {},
   "source": [
    "Error Message --> may look into info class for further troubleshooting, whole information is there, may need to be wrapped?"
   ]
  },
  {
   "cell_type": "code",
   "execution_count": null,
   "metadata": {},
   "outputs": [],
   "source": []
  }
 ],
 "metadata": {
  "kernelspec": {
   "display_name": "rl",
   "language": "python",
   "name": "python3"
  },
  "language_info": {
   "codemirror_mode": {
    "name": "ipython",
    "version": 3
   },
   "file_extension": ".py",
   "mimetype": "text/x-python",
   "name": "python",
   "nbconvert_exporter": "python",
   "pygments_lexer": "ipython3",
   "version": "3.10.9"
  }
 },
 "nbformat": 4,
 "nbformat_minor": 2
}
