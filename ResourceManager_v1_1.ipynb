{
 "cells": [
  {
   "cell_type": "markdown",
   "metadata": {},
   "source": [
    "### Reinforcement Learning - Resource Manager"
   ]
  },
  {
   "cell_type": "markdown",
   "metadata": {},
   "source": [
    "Kudos to:\n",
    "\n",
    "https://www.gymlibrary.dev/content/environment_creation/\n",
    "\n",
    "https://www.youtube.com/watch?v=bD6V3rcr_54&ab_channel=NicholasRenotte \n",
    "\n",
    "Version 1.0:\n",
    "\n",
    "- Export the Environment to python file\n",
    "    - Register it\n",
    "- Add Deep Learning with DQN\n",
    "\n"
   ]
  },
  {
   "cell_type": "markdown",
   "metadata": {},
   "source": [
    "### Imports"
   ]
  },
  {
   "cell_type": "code",
   "execution_count": 1,
   "metadata": {},
   "outputs": [],
   "source": [
    "import gym\n",
    "from gym import spaces\n",
    "import numpy as np\n",
    "import pygame\n",
    "from gym.envs.registration import register\n",
    "import tensorflow as tf\n",
    "from tensorflow import keras\n",
    "from tensorflow.keras import layers"
   ]
  },
  {
   "cell_type": "markdown",
   "metadata": {},
   "source": [
    "### Environment"
   ]
  },
  {
   "cell_type": "code",
   "execution_count": 2,
   "metadata": {},
   "outputs": [],
   "source": [
    "from ResourceManagerEnvironment import ResourceManagerEnv"
   ]
  },
  {
   "cell_type": "code",
   "execution_count": 3,
   "metadata": {},
   "outputs": [],
   "source": [
    "#register the environment\n",
    "register(\n",
    "    id='Resource-Manager-v1-1',\n",
    "    entry_point='ResourceManagerEnvironment:ResourceManagerEnv',\n",
    "    max_episode_steps=300,\n",
    ")\n"
   ]
  },
  {
   "cell_type": "code",
   "execution_count": 4,
   "metadata": {},
   "outputs": [
    {
     "name": "stderr",
     "output_type": "stream",
     "text": [
      "c:\\Users\\denni\\.conda\\envs\\tf\\lib\\site-packages\\gym\\utils\\passive_env_checker.py:31: UserWarning: \u001b[33mWARN: A Box observation space has an unconventional shape (neither an image, nor a 1D vector). We recommend flattening the observation to have only a 1D vector or use a custom policy to properly process the data. Actual observation shape: (10, 10)\u001b[0m\n",
      "  logger.warn(\n"
     ]
    }
   ],
   "source": [
    "env = gym.make('Resource-Manager-v1-1')"
   ]
  },
  {
   "cell_type": "markdown",
   "metadata": {},
   "source": [
    "## Deep Learning"
   ]
  },
  {
   "cell_type": "code",
   "execution_count": 8,
   "metadata": {},
   "outputs": [],
   "source": [
    "#define grid size before training\n",
    "new_grid_size = 15"
   ]
  },
  {
   "cell_type": "code",
   "execution_count": 9,
   "metadata": {},
   "outputs": [],
   "source": [
    "class DQN(tf.Module):\n",
    "    def __init__(self, num_actions):\n",
    "        self.model = keras.Sequential([\n",
    "            keras.layers.Input(shape=(new_grid_size, new_grid_size)),\n",
    "            keras.layers.Flatten(),\n",
    "            keras.layers.Dense(64, activation='relu'),\n",
    "            keras.layers.Dense(64, activation='relu'),\n",
    "            keras.layers.Dense(num_actions)  # Output layer with num_actions units\n",
    "        ])\n",
    "\n",
    "    def call(self, state):\n",
    "        return self.model(state)\n",
    "\n"
   ]
  },
  {
   "cell_type": "code",
   "execution_count": 10,
   "metadata": {},
   "outputs": [],
   "source": [
    "class DQNAgent:\n",
    "    def __init__(self, num_actions, epsilon=1.0, epsilon_decay=0.995, min_epsilon=0.01, learning_rate=0.001, gamma=0.99):\n",
    "        self.q_network = DQN(num_actions)\n",
    "        self.target_network = DQN(num_actions)\n",
    "        self.optimizer = keras.optimizers.Adam(learning_rate)\n",
    "        self.num_actions = num_actions\n",
    "        self.epsilon = epsilon\n",
    "        self.epsilon_decay = epsilon_decay\n",
    "        self.min_epsilon = min_epsilon\n",
    "        self.gamma = gamma\n",
    "\n",
    "    def choose_action(self, state):\n",
    "        if np.random.rand() < self.epsilon:\n",
    "            return np.random.randint(self.num_actions)\n",
    "        q_values = self.q_network(state[None, :])\n",
    "        return np.argmax(q_values[0])\n",
    "\n",
    "    def train(self, state, action, reward, next_state, done):\n",
    "        with tf.GradientTape() as tape:\n",
    "            q_values = self.q_network(state)\n",
    "            target_q_values = self.target_network(next_state)\n",
    "            target = q_values.numpy()\n",
    "            if done:\n",
    "                target[0][action] = reward\n",
    "            else:\n",
    "                target[0][action] = reward + self.gamma * np.max(target_q_values)\n",
    "\n",
    "            loss = tf.reduce_mean(tf.square(target - q_values))\n",
    "        gradients = tape.gradient(loss, self.q_network.trainable_variables)\n",
    "        self.optimizer.apply_gradients(zip(gradients, self.q_network.trainable_variables))\n",
    "\n",
    "    def update_target_network(self):\n",
    "        self.target_network.set_weights(self.q_network.get_weights())\n",
    "\n",
    "    def decay_epsilon(self):\n",
    "        if self.epsilon > self.min_epsilon:\n",
    "            self.epsilon *= self.epsilon_decay\n"
   ]
  },
  {
   "cell_type": "code",
   "execution_count": 13,
   "metadata": {},
   "outputs": [
    {
     "ename": "TypeError",
     "evalue": "'DQN' object is not callable",
     "output_type": "error",
     "traceback": [
      "\u001b[1;31m---------------------------------------------------------------------------\u001b[0m",
      "\u001b[1;31mTypeError\u001b[0m                                 Traceback (most recent call last)",
      "\u001b[1;32mc:\\Repos\\Private\\SharedProjects\\ReinforcementLearning_cds(117)\\reinforcementLearning_cds117\\ResourceManager_v1_1.ipynb Cell 13\u001b[0m line \u001b[0;36m2\n\u001b[0;32m     <a href='vscode-notebook-cell:/c%3A/Repos/Private/SharedProjects/ReinforcementLearning_cds%28117%29/reinforcementLearning_cds117/ResourceManager_v1_1.ipynb#X20sZmlsZQ%3D%3D?line=19'>20</a>\u001b[0m info \u001b[39m=\u001b[39m step_result[\u001b[39m3\u001b[39m]\n\u001b[0;32m     <a href='vscode-notebook-cell:/c%3A/Repos/Private/SharedProjects/ReinforcementLearning_cds%28117%29/reinforcementLearning_cds117/ResourceManager_v1_1.ipynb#X20sZmlsZQ%3D%3D?line=21'>22</a>\u001b[0m \u001b[39m#next_state, reward, done, info = step_result\u001b[39;00m\n\u001b[1;32m---> <a href='vscode-notebook-cell:/c%3A/Repos/Private/SharedProjects/ReinforcementLearning_cds%28117%29/reinforcementLearning_cds117/ResourceManager_v1_1.ipynb#X20sZmlsZQ%3D%3D?line=22'>23</a>\u001b[0m dqn_agent\u001b[39m.\u001b[39;49mtrain(state, action, reward, next_state, done)\n\u001b[0;32m     <a href='vscode-notebook-cell:/c%3A/Repos/Private/SharedProjects/ReinforcementLearning_cds%28117%29/reinforcementLearning_cds117/ResourceManager_v1_1.ipynb#X20sZmlsZQ%3D%3D?line=23'>24</a>\u001b[0m state \u001b[39m=\u001b[39m next_state\n\u001b[0;32m     <a href='vscode-notebook-cell:/c%3A/Repos/Private/SharedProjects/ReinforcementLearning_cds%28117%29/reinforcementLearning_cds117/ResourceManager_v1_1.ipynb#X20sZmlsZQ%3D%3D?line=25'>26</a>\u001b[0m \u001b[39mif\u001b[39;00m done:\n",
      "\u001b[1;32mc:\\Repos\\Private\\SharedProjects\\ReinforcementLearning_cds(117)\\reinforcementLearning_cds117\\ResourceManager_v1_1.ipynb Cell 13\u001b[0m line \u001b[0;36m2\n\u001b[0;32m     <a href='vscode-notebook-cell:/c%3A/Repos/Private/SharedProjects/ReinforcementLearning_cds%28117%29/reinforcementLearning_cds117/ResourceManager_v1_1.ipynb#X20sZmlsZQ%3D%3D?line=17'>18</a>\u001b[0m \u001b[39mdef\u001b[39;00m \u001b[39mtrain\u001b[39m(\u001b[39mself\u001b[39m, state, action, reward, next_state, done):\n\u001b[0;32m     <a href='vscode-notebook-cell:/c%3A/Repos/Private/SharedProjects/ReinforcementLearning_cds%28117%29/reinforcementLearning_cds117/ResourceManager_v1_1.ipynb#X20sZmlsZQ%3D%3D?line=18'>19</a>\u001b[0m     \u001b[39mwith\u001b[39;00m tf\u001b[39m.\u001b[39mGradientTape() \u001b[39mas\u001b[39;00m tape:\n\u001b[1;32m---> <a href='vscode-notebook-cell:/c%3A/Repos/Private/SharedProjects/ReinforcementLearning_cds%28117%29/reinforcementLearning_cds117/ResourceManager_v1_1.ipynb#X20sZmlsZQ%3D%3D?line=19'>20</a>\u001b[0m         q_values \u001b[39m=\u001b[39m \u001b[39mself\u001b[39;49m\u001b[39m.\u001b[39;49mq_network(state)\n\u001b[0;32m     <a href='vscode-notebook-cell:/c%3A/Repos/Private/SharedProjects/ReinforcementLearning_cds%28117%29/reinforcementLearning_cds117/ResourceManager_v1_1.ipynb#X20sZmlsZQ%3D%3D?line=20'>21</a>\u001b[0m         target_q_values \u001b[39m=\u001b[39m \u001b[39mself\u001b[39m\u001b[39m.\u001b[39mtarget_network(next_state)\n\u001b[0;32m     <a href='vscode-notebook-cell:/c%3A/Repos/Private/SharedProjects/ReinforcementLearning_cds%28117%29/reinforcementLearning_cds117/ResourceManager_v1_1.ipynb#X20sZmlsZQ%3D%3D?line=21'>22</a>\u001b[0m         target \u001b[39m=\u001b[39m q_values\u001b[39m.\u001b[39mnumpy()\n",
      "\u001b[1;31mTypeError\u001b[0m: 'DQN' object is not callable"
     ]
    }
   ],
   "source": [
    "\n",
    "env = gym.make('Resource-Manager-v1-1', grid_size=new_grid_size, render_mode='human')\n",
    "episodes = 100  # Number of episodes\n",
    "max_steps = 300  # Maximum steps per episode\n",
    "\n",
    "# Initialize the agent\n",
    "num_actions = env.action_space.n\n",
    "dqn_agent = DQNAgent(num_actions)\n",
    "\n",
    "for episode in range(episodes):\n",
    "    state = env.reset()\n",
    "    done = False\n",
    "\n",
    "    for step in range(max_steps):\n",
    "        action = dqn_agent.choose_action(state)\n",
    "        step_result = env.step(action)\n",
    "\n",
    "        next_state = step_result[0]\n",
    "        reward = step_result[1]\n",
    "        done = step_result[2]\n",
    "        info = step_result[3]\n",
    "\n",
    "        #next_state, reward, done, info = step_result\n",
    "        dqn_agent.train(state, action, reward, next_state, done)\n",
    "        state = next_state\n",
    "\n",
    "        if done:\n",
    "            break\n",
    "\n",
    "    dqn_agent.decay_epsilon()\n",
    "    dqn_agent.update_target_network()\n"
   ]
  },
  {
   "cell_type": "code",
   "execution_count": null,
   "metadata": {},
   "outputs": [],
   "source": []
  }
 ],
 "metadata": {
  "kernelspec": {
   "display_name": "rl",
   "language": "python",
   "name": "python3"
  },
  "language_info": {
   "codemirror_mode": {
    "name": "ipython",
    "version": 3
   },
   "file_extension": ".py",
   "mimetype": "text/x-python",
   "name": "python",
   "nbconvert_exporter": "python",
   "pygments_lexer": "ipython3",
   "version": "3.10.9"
  }
 },
 "nbformat": 4,
 "nbformat_minor": 2
}
