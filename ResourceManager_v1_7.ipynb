{
 "cells": [
  {
   "cell_type": "markdown",
   "metadata": {},
   "source": [
    "### Reinforcement Learning - Resource Manager"
   ]
  },
  {
   "cell_type": "markdown",
   "metadata": {},
   "source": [
    "Version 1.7:\n",
    "\n",
    "- Changed environment, Rendering with images\n",
    "- Added function to save Observation, Q-Table, Plot and Hyperparameters\n",
    "\n",
    "\n"
   ]
  },
  {
   "cell_type": "markdown",
   "metadata": {},
   "source": [
    "### Imports"
   ]
  },
  {
   "cell_type": "code",
   "execution_count": null,
   "metadata": {},
   "outputs": [],
   "source": [
    "import gym\n",
    "import numpy as np\n",
    "from gym.envs.registration import register\n",
    "import matplotlib.pyplot as plt"
   ]
  },
  {
   "cell_type": "markdown",
   "metadata": {},
   "source": [
    "### Environment"
   ]
  },
  {
   "cell_type": "code",
   "execution_count": null,
   "metadata": {},
   "outputs": [],
   "source": [
    "from environment.ResourceManagerEnvironment_v1_7 import ResourceManagerEnv\n",
    "from agent.QLearning import QLearningAgent"
   ]
  },
  {
   "cell_type": "code",
   "execution_count": null,
   "metadata": {},
   "outputs": [],
   "source": [
    "register(\n",
    "    id='Resource-Manager-v1-7',\n",
    "    entry_point='environment.ResourceManagerEnvironment_v1_7:ResourceManagerEnv',\n",
    "    kwargs={\n",
    "        'grid_size': 20,           #set to desired grid size\n",
    "        'window_size': 400,        #set to desired window size\n",
    "        'num_water_resources': 20,  #set to desired number of water resources\n",
    "        'render_mode': 'rgb_array'     #set to desired render mode ('human' or 'rgb_array')\n",
    "    },\n",
    "    max_episode_steps=500,\n",
    ")\n"
   ]
  },
  {
   "cell_type": "code",
   "execution_count": null,
   "metadata": {},
   "outputs": [],
   "source": [
    "\n",
    "env = gym.make('Resource-Manager-v1-7')\n",
    "\n",
    "#Hyperparameters:\n",
    "\n",
    "learning_rate=0.1\n",
    "discount_factor=0.9\n",
    "exploration_prob=1.0\n",
    "epsilon_decay=0.995\n",
    "replay_buffer_size=1000\n",
    "batch_size=32\n",
    "\n",
    "agent = QLearningAgent(env, learning_rate, discount_factor, exploration_prob, epsilon_decay)\n",
    "num_episodes = 1000\n",
    "\n",
    "episode_rewards = []\n",
    "episode_water_resources = []\n",
    "\n",
    "\n",
    "for episode in range(num_episodes):\n",
    "    observation = env.reset()\n",
    "    total_reward = 0\n",
    "\n",
    "    if episode == 0:\n",
    "        initial_observation = observation\n",
    "\n",
    "    step = 0\n",
    "\n",
    "    while step < 500:\n",
    "\n",
    "        #select action using the Q-learning agent\n",
    "        action = agent.select_action(observation)\n",
    "        #print(f\"Epside: {episode}, Step: {step} Action: {action}\")\n",
    "        # Take a step in the environment\n",
    "        next_observation, reward, done, _, _ = env.step(action)\n",
    "    \n",
    "        total_reward += reward\n",
    "\n",
    "        #update the Q-table\n",
    "        agent.update_q_table(observation, action, reward, next_observation)  \n",
    "\n",
    "        observation = next_observation\n",
    "        step += 1\n",
    "\n",
    "        if done:\n",
    "            break\n",
    "\n",
    "    episode_rewards.append(total_reward)\n",
    "    episode_water_resources.append(env.water_resource)\n",
    "\n",
    "    print(f\"Episode {episode + 1}, Total Reward: {total_reward}, Total Water Resource: {env.water_resource}\")"
   ]
  },
  {
   "cell_type": "code",
   "execution_count": null,
   "metadata": {},
   "outputs": [],
   "source": [
    "#Plot the total rewards\n",
    "plt.figure(figsize=(15,5))\n",
    "plt.plot(episode_rewards)\n",
    "plt.xlabel('Episode')\n",
    "plt.ylabel('Total Reward')\n",
    "plt.title('Learning Progress')\n",
    "#plot tendency curve\n",
    "plt.plot(np.convolve(episode_rewards, np.ones((10,))/10, mode='valid'))\n",
    "#plot average\n",
    "plt.plot(np.ones(len(episode_rewards))*np.mean(episode_rewards))\n",
    "plt.plot(episode_water_resources)\n",
    "plt.legend(['Episode Reward', 'Tendency', 'Average', 'Water'])\n",
    "plt.show()\n"
   ]
  },
  {
   "cell_type": "code",
   "execution_count": null,
   "metadata": {},
   "outputs": [],
   "source": [
    "np.set_printoptions(threshold=np.inf, linewidth=np.inf)\n",
    "observation"
   ]
  },
  {
   "cell_type": "code",
   "execution_count": null,
   "metadata": {},
   "outputs": [],
   "source": [
    "initial_observation[0]"
   ]
  },
  {
   "cell_type": "code",
   "execution_count": null,
   "metadata": {},
   "outputs": [],
   "source": [
    "final_q_table = agent.q_table\n",
    "final_q_table"
   ]
  },
  {
   "cell_type": "code",
   "execution_count": null,
   "metadata": {},
   "outputs": [],
   "source": [
    "# function to save the results\n",
    "def save_results(name):\n",
    "    import os\n",
    "    from datetime import datetime\n",
    "    now = datetime.now()\n",
    "    dt_string = now.strftime(\"%d-%m-%Y_%H-%M-%S\")\n",
    "    folder_name = f\"Results_{dt_string}_{name}\"\n",
    "    os.mkdir(folder_name)\n",
    "    #save the observation in a text file\n",
    "    np.savetxt(f\"{folder_name}/observation.txt\", initial_observation[0], fmt=\"%s\")\n",
    "    #save the q-table in a text file\n",
    "    np.savetxt(f\"{folder_name}/q_table.txt\", final_q_table, fmt=\"%s\")\n",
    "\n",
    "    #Subfolder for the images\n",
    "    os.mkdir(f\"{folder_name}/Plots\")\n",
    "    #save the plot of the total rewards\n",
    "    plt.figure(figsize=(15,5))\n",
    "    plt.plot(episode_rewards)\n",
    "    plt.xlabel('Episode')\n",
    "    plt.ylabel('Total Reward')\n",
    "    plt.title('Learning Progress')\n",
    "    #plot tendency curve\n",
    "    plt.plot(np.convolve(episode_rewards, np.ones((10,))/10, mode='valid'))\n",
    "    #plot average\n",
    "    plt.plot(np.ones(len(episode_rewards))*np.mean(episode_rewards))\n",
    "    plt.plot(episode_water_resources)\n",
    "    plt.legend(['Episode Reward', 'Tendency', 'Average', 'Water'])\n",
    "    plt.savefig(f\"{folder_name}/Plots/learning_progress.png\")\n",
    "\n",
    "    # Subfolder for Hyperparameters\n",
    "    os.mkdir(f\"{folder_name}/Hyperparameters\")\n",
    "    #save the hyperparameters in a text file\n",
    "\n",
    "    with open(f\"{folder_name}/Hyperparameters/hyperparameters.txt\", \"w\") as text_file:\n",
    "        text_file.write(f\"learning_rate={learning_rate}\\n\")\n",
    "        text_file.write(f\"discount_factor={discount_factor}\\n\")\n",
    "        text_file.write(f\"exploration_prob={exploration_prob}\\n\")\n",
    "        text_file.write(f\"epsilon_decay={epsilon_decay}\\n\")\n",
    "        text_file.write(f\"replay_buffer_size={replay_buffer_size}\\n\")\n",
    "        text_file.write(f\"batch_size={batch_size}\\n\")\n",
    "\n",
    "    print(\"Save Complete\")    \n",
    "    return\n"
   ]
  },
  {
   "cell_type": "code",
   "execution_count": null,
   "metadata": {},
   "outputs": [],
   "source": [
    "save_results('firstWorkingQ-Learning')"
   ]
  },
  {
   "cell_type": "code",
   "execution_count": null,
   "metadata": {},
   "outputs": [],
   "source": []
  },
  {
   "cell_type": "code",
   "execution_count": null,
   "metadata": {},
   "outputs": [],
   "source": []
  }
 ],
 "metadata": {
  "kernelspec": {
   "display_name": "rl",
   "language": "python",
   "name": "python3"
  },
  "language_info": {
   "codemirror_mode": {
    "name": "ipython",
    "version": 3
   },
   "file_extension": ".py",
   "mimetype": "text/x-python",
   "name": "python",
   "nbconvert_exporter": "python",
   "pygments_lexer": "ipython3",
   "version": "3.10.9"
  }
 },
 "nbformat": 4,
 "nbformat_minor": 2
}
