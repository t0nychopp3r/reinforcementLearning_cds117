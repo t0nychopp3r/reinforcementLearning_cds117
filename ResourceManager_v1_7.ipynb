{
 "cells": [
  {
   "cell_type": "markdown",
   "metadata": {},
   "source": [
    "### Reinforcement Learning - Resource Manager"
   ]
  },
  {
   "cell_type": "markdown",
   "metadata": {},
   "source": [
    "Version 1.7:\n",
    "\n",
    "- Changed environment, Rendering with images\n",
    "\n",
    "\n"
   ]
  },
  {
   "cell_type": "markdown",
   "metadata": {},
   "source": [
    "### Imports"
   ]
  },
  {
   "cell_type": "code",
   "execution_count": 1,
   "metadata": {},
   "outputs": [],
   "source": [
    "import gym\n",
    "import numpy as np\n",
    "from gym.envs.registration import register\n",
    "import matplotlib.pyplot as plt"
   ]
  },
  {
   "cell_type": "markdown",
   "metadata": {},
   "source": [
    "### Environment"
   ]
  },
  {
   "cell_type": "code",
   "execution_count": 2,
   "metadata": {},
   "outputs": [],
   "source": [
    "from environment.ResourceManagerEnvironment_v1_7 import ResourceManagerEnv\n",
    "from agent.QLearning import QLearningAgent"
   ]
  },
  {
   "cell_type": "code",
   "execution_count": 3,
   "metadata": {},
   "outputs": [],
   "source": [
    "register(\n",
    "    id='Resource-Manager-v1-7',\n",
    "    entry_point='environment.ResourceManagerEnvironment_v1_7:ResourceManagerEnv',\n",
    "    kwargs={\n",
    "        'grid_size': 20,           #set to desired grid size\n",
    "        'window_size': 400,        #set to desired window size\n",
    "        'num_water_resources': 20,  #set to desired number of water resources\n",
    "        'render_mode': 'human'     #set to desired render mode ('human' or 'rgb_array')\n",
    "    },\n",
    "    max_episode_steps=500,\n",
    ")\n"
   ]
  },
  {
   "cell_type": "code",
   "execution_count": 4,
   "metadata": {},
   "outputs": [
    {
     "name": "stderr",
     "output_type": "stream",
     "text": [
      "c:\\Users\\denni\\.conda\\envs\\tf\\lib\\site-packages\\gym\\utils\\passive_env_checker.py:31: UserWarning: \u001b[33mWARN: A Box observation space has an unconventional shape (neither an image, nor a 1D vector). We recommend flattening the observation to have only a 1D vector or use a custom policy to properly process the data. Actual observation shape: (20, 20)\u001b[0m\n",
      "  logger.warn(\n",
      "c:\\Users\\denni\\.conda\\envs\\tf\\lib\\site-packages\\gym\\utils\\passive_env_checker.py:187: UserWarning: \u001b[33mWARN: Future gym versions will require that `Env.reset` can be passed `options` to allow the environment initialisation to be passed additional information.\u001b[0m\n",
      "  logger.warn(\n",
      "c:\\Users\\denni\\.conda\\envs\\tf\\lib\\site-packages\\gym\\utils\\passive_env_checker.py:165: UserWarning: \u001b[33mWARN: The obs returned by the `reset()` method is not within the observation space.\u001b[0m\n",
      "  logger.warn(f\"{pre} is not within the observation space.\")\n",
      "c:\\Users\\denni\\.conda\\envs\\tf\\lib\\site-packages\\gym\\utils\\passive_env_checker.py:233: DeprecationWarning: `np.bool8` is a deprecated alias for `np.bool_`.  (Deprecated NumPy 1.24)\n",
      "  if not isinstance(terminated, (bool, np.bool8)):\n",
      "c:\\Users\\denni\\.conda\\envs\\tf\\lib\\site-packages\\gym\\utils\\passive_env_checker.py:165: UserWarning: \u001b[33mWARN: The obs returned by the `step()` method is not within the observation space.\u001b[0m\n",
      "  logger.warn(f\"{pre} is not within the observation space.\")\n"
     ]
    },
    {
     "ename": "KeyboardInterrupt",
     "evalue": "",
     "output_type": "error",
     "traceback": [
      "\u001b[1;31m---------------------------------------------------------------------------\u001b[0m",
      "\u001b[1;31mKeyboardInterrupt\u001b[0m                         Traceback (most recent call last)",
      "\u001b[1;32mc:\\Repos\\Private\\SharedProjects\\ReinforcementLearning_cds(117)\\reinforcementLearning_cds117\\ResourceManager_v1_7.ipynb Cell 8\u001b[0m line \u001b[0;36m2\n\u001b[0;32m     <a href='vscode-notebook-cell:/c%3A/Repos/Private/SharedProjects/ReinforcementLearning_cds%28117%29/reinforcementLearning_cds117/ResourceManager_v1_7.ipynb#X13sZmlsZQ%3D%3D?line=23'>24</a>\u001b[0m action \u001b[39m=\u001b[39m agent\u001b[39m.\u001b[39mselect_action(observation)\n\u001b[0;32m     <a href='vscode-notebook-cell:/c%3A/Repos/Private/SharedProjects/ReinforcementLearning_cds%28117%29/reinforcementLearning_cds117/ResourceManager_v1_7.ipynb#X13sZmlsZQ%3D%3D?line=24'>25</a>\u001b[0m \u001b[39m# Take a step in the environment\u001b[39;00m\n\u001b[1;32m---> <a href='vscode-notebook-cell:/c%3A/Repos/Private/SharedProjects/ReinforcementLearning_cds%28117%29/reinforcementLearning_cds117/ResourceManager_v1_7.ipynb#X13sZmlsZQ%3D%3D?line=25'>26</a>\u001b[0m next_observation, reward, done, _, _ \u001b[39m=\u001b[39m env\u001b[39m.\u001b[39;49mstep(action)\n\u001b[0;32m     <a href='vscode-notebook-cell:/c%3A/Repos/Private/SharedProjects/ReinforcementLearning_cds%28117%29/reinforcementLearning_cds117/ResourceManager_v1_7.ipynb#X13sZmlsZQ%3D%3D?line=27'>28</a>\u001b[0m total_reward \u001b[39m+\u001b[39m\u001b[39m=\u001b[39m reward\n\u001b[0;32m     <a href='vscode-notebook-cell:/c%3A/Repos/Private/SharedProjects/ReinforcementLearning_cds%28117%29/reinforcementLearning_cds117/ResourceManager_v1_7.ipynb#X13sZmlsZQ%3D%3D?line=29'>30</a>\u001b[0m \u001b[39m#update the Q-table\u001b[39;00m\n",
      "File \u001b[1;32mc:\\Users\\denni\\.conda\\envs\\tf\\lib\\site-packages\\gym\\wrappers\\time_limit.py:50\u001b[0m, in \u001b[0;36mTimeLimit.step\u001b[1;34m(self, action)\u001b[0m\n\u001b[0;32m     39\u001b[0m \u001b[39mdef\u001b[39;00m \u001b[39mstep\u001b[39m(\u001b[39mself\u001b[39m, action):\n\u001b[0;32m     40\u001b[0m \u001b[39m    \u001b[39m\u001b[39m\"\"\"Steps through the environment and if the number of steps elapsed exceeds ``max_episode_steps`` then truncate.\u001b[39;00m\n\u001b[0;32m     41\u001b[0m \n\u001b[0;32m     42\u001b[0m \u001b[39m    Args:\u001b[39;00m\n\u001b[1;32m   (...)\u001b[0m\n\u001b[0;32m     48\u001b[0m \n\u001b[0;32m     49\u001b[0m \u001b[39m    \"\"\"\u001b[39;00m\n\u001b[1;32m---> 50\u001b[0m     observation, reward, terminated, truncated, info \u001b[39m=\u001b[39m \u001b[39mself\u001b[39;49m\u001b[39m.\u001b[39;49menv\u001b[39m.\u001b[39;49mstep(action)\n\u001b[0;32m     51\u001b[0m     \u001b[39mself\u001b[39m\u001b[39m.\u001b[39m_elapsed_steps \u001b[39m+\u001b[39m\u001b[39m=\u001b[39m \u001b[39m1\u001b[39m\n\u001b[0;32m     53\u001b[0m     \u001b[39mif\u001b[39;00m \u001b[39mself\u001b[39m\u001b[39m.\u001b[39m_elapsed_steps \u001b[39m>\u001b[39m\u001b[39m=\u001b[39m \u001b[39mself\u001b[39m\u001b[39m.\u001b[39m_max_episode_steps:\n",
      "File \u001b[1;32mc:\\Users\\denni\\.conda\\envs\\tf\\lib\\site-packages\\gym\\wrappers\\order_enforcing.py:37\u001b[0m, in \u001b[0;36mOrderEnforcing.step\u001b[1;34m(self, action)\u001b[0m\n\u001b[0;32m     35\u001b[0m \u001b[39mif\u001b[39;00m \u001b[39mnot\u001b[39;00m \u001b[39mself\u001b[39m\u001b[39m.\u001b[39m_has_reset:\n\u001b[0;32m     36\u001b[0m     \u001b[39mraise\u001b[39;00m ResetNeeded(\u001b[39m\"\u001b[39m\u001b[39mCannot call env.step() before calling env.reset()\u001b[39m\u001b[39m\"\u001b[39m)\n\u001b[1;32m---> 37\u001b[0m \u001b[39mreturn\u001b[39;00m \u001b[39mself\u001b[39;49m\u001b[39m.\u001b[39;49menv\u001b[39m.\u001b[39;49mstep(action)\n",
      "File \u001b[1;32mc:\\Users\\denni\\.conda\\envs\\tf\\lib\\site-packages\\gym\\wrappers\\env_checker.py:39\u001b[0m, in \u001b[0;36mPassiveEnvChecker.step\u001b[1;34m(self, action)\u001b[0m\n\u001b[0;32m     37\u001b[0m     \u001b[39mreturn\u001b[39;00m env_step_passive_checker(\u001b[39mself\u001b[39m\u001b[39m.\u001b[39menv, action)\n\u001b[0;32m     38\u001b[0m \u001b[39melse\u001b[39;00m:\n\u001b[1;32m---> 39\u001b[0m     \u001b[39mreturn\u001b[39;00m \u001b[39mself\u001b[39;49m\u001b[39m.\u001b[39;49menv\u001b[39m.\u001b[39;49mstep(action)\n",
      "File \u001b[1;32mc:\\Repos\\Private\\SharedProjects\\ReinforcementLearning_cds(117)\\reinforcementLearning_cds117\\environment\\ResourceManagerEnvironment_v1_7.py:190\u001b[0m, in \u001b[0;36mResourceManagerEnv.step\u001b[1;34m(self, action)\u001b[0m\n\u001b[0;32m    187\u001b[0m info \u001b[39m=\u001b[39m \u001b[39mself\u001b[39m\u001b[39m.\u001b[39mget_info()\n\u001b[0;32m    189\u001b[0m \u001b[39mif\u001b[39;00m \u001b[39mself\u001b[39m\u001b[39m.\u001b[39mrender_mode \u001b[39m==\u001b[39m \u001b[39m\"\u001b[39m\u001b[39mhuman\u001b[39m\u001b[39m\"\u001b[39m:\n\u001b[1;32m--> 190\u001b[0m     \u001b[39mself\u001b[39;49m\u001b[39m.\u001b[39;49mrender_frame(agent_on_water\u001b[39m=\u001b[39;49mis_on_water)\n\u001b[0;32m    192\u001b[0m \u001b[39m#set truncated to false as it is not needed\u001b[39;00m\n\u001b[0;32m    193\u001b[0m truncated \u001b[39m=\u001b[39m \u001b[39mFalse\u001b[39;00m\n",
      "File \u001b[1;32mc:\\Repos\\Private\\SharedProjects\\ReinforcementLearning_cds(117)\\reinforcementLearning_cds117\\environment\\ResourceManagerEnvironment_v1_7.py:216\u001b[0m, in \u001b[0;36mResourceManagerEnv.render_frame\u001b[1;34m(self, agent_on_water)\u001b[0m\n\u001b[0;32m    212\u001b[0m pix_square_size \u001b[39m=\u001b[39m \u001b[39mself\u001b[39m\u001b[39m.\u001b[39mwindow_size \u001b[39m/\u001b[39m \u001b[39mself\u001b[39m\u001b[39m.\u001b[39mgrid_size\n\u001b[0;32m    214\u001b[0m \u001b[39m# ***** Load Images *****\u001b[39;00m\n\u001b[0;32m    215\u001b[0m \u001b[39m#load the images\u001b[39;00m\n\u001b[1;32m--> 216\u001b[0m water_image \u001b[39m=\u001b[39m pygame\u001b[39m.\u001b[39;49mimage\u001b[39m.\u001b[39;49mload(os\u001b[39m.\u001b[39;49mpath\u001b[39m.\u001b[39;49mjoin(\u001b[39m\"\u001b[39;49m\u001b[39mimages\u001b[39;49m\u001b[39m\"\u001b[39;49m, \u001b[39m\"\u001b[39;49m\u001b[39mwater.jpg\u001b[39;49m\u001b[39m\"\u001b[39;49m))\n\u001b[0;32m    217\u001b[0m agent_image \u001b[39m=\u001b[39m pygame\u001b[39m.\u001b[39mimage\u001b[39m.\u001b[39mload(os\u001b[39m.\u001b[39mpath\u001b[39m.\u001b[39mjoin(\u001b[39m\"\u001b[39m\u001b[39mimages\u001b[39m\u001b[39m\"\u001b[39m, \u001b[39m\"\u001b[39m\u001b[39mplayer_neutral.jpg\u001b[39m\u001b[39m\"\u001b[39m))\n\u001b[0;32m    219\u001b[0m \u001b[39m#resize images to match the square size\u001b[39;00m\n",
      "\u001b[1;31mKeyboardInterrupt\u001b[0m: "
     ]
    },
    {
     "ename": "",
     "evalue": "",
     "output_type": "error",
     "traceback": [
      "\u001b[1;31mThe Kernel crashed while executing code in the the current cell or a previous cell. Please review the code in the cell(s) to identify a possible cause of the failure. Click <a href='https://aka.ms/vscodeJupyterKernelCrash'>here</a> for more info. View Jupyter <a href='command:jupyter.viewOutput'>log</a> for further details."
     ]
    }
   ],
   "source": [
    "\n",
    "env = gym.make('Resource-Manager-v1-7')\n",
    "\n",
    "#Hyperparameters:\n",
    "\n",
    "learning_rate=0.1\n",
    "discount_factor=0.9\n",
    "exploration_prob=1.0\n",
    "epsilon_decay=0.995\n",
    "replay_buffer_size=1000\n",
    "batch_size=32\n",
    "\n",
    "agent = QLearningAgent(env, learning_rate, discount_factor, exploration_prob, epsilon_decay)\n",
    "num_episodes = 5\n",
    "\n",
    "episode_rewards = []\n",
    "episode_water_resources = []\n",
    "\n",
    "for episode in range(num_episodes):\n",
    "    observation = env.reset()\n",
    "    total_reward = 0\n",
    "\n",
    "    while True:\n",
    "        #select action using the Q-learning agent\n",
    "        action = agent.select_action(observation)\n",
    "        # Take a step in the environment\n",
    "        next_observation, reward, done, _, _ = env.step(action)\n",
    "\n",
    "        total_reward += reward\n",
    "\n",
    "        #update the Q-table\n",
    "        agent.update_q_table(observation, action, reward, next_observation)\n",
    "\n",
    "        observation = next_observation\n",
    "\n",
    "        if done:\n",
    "            break\n",
    "\n",
    "    episode_rewards.append(total_reward)\n",
    "    episode_water_resources.append(env.water_resource)\n",
    "\n",
    "    print(f\"Episode {episode + 1}, Total Reward: {total_reward}, Total Water Resource: {env.water_resource}\")"
   ]
  },
  {
   "cell_type": "code",
   "execution_count": null,
   "metadata": {},
   "outputs": [],
   "source": []
  }
 ],
 "metadata": {
  "kernelspec": {
   "display_name": "rl",
   "language": "python",
   "name": "python3"
  },
  "language_info": {
   "codemirror_mode": {
    "name": "ipython",
    "version": 3
   },
   "file_extension": ".py",
   "mimetype": "text/x-python",
   "name": "python",
   "nbconvert_exporter": "python",
   "pygments_lexer": "ipython3",
   "version": "3.10.9"
  }
 },
 "nbformat": 4,
 "nbformat_minor": 2
}
