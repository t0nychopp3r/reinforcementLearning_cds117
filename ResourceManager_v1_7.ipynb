{
 "cells": [
  {
   "cell_type": "markdown",
   "metadata": {},
   "source": [
    "### Reinforcement Learning - Resource Manager"
   ]
  },
  {
   "cell_type": "markdown",
   "metadata": {},
   "source": [
    "Version 1.7:\n",
    "\n",
    "- Changed environment, Rendering with images\n",
    "\n",
    "\n"
   ]
  },
  {
   "cell_type": "markdown",
   "metadata": {},
   "source": [
    "### Imports"
   ]
  },
  {
   "cell_type": "code",
   "execution_count": 1,
   "metadata": {},
   "outputs": [],
   "source": [
    "import gym\n",
    "import numpy as np\n",
    "from gym.envs.registration import register\n",
    "import matplotlib.pyplot as plt"
   ]
  },
  {
   "cell_type": "markdown",
   "metadata": {},
   "source": [
    "### Environment"
   ]
  },
  {
   "cell_type": "code",
   "execution_count": 2,
   "metadata": {},
   "outputs": [],
   "source": [
    "from environment.ResourceManagerEnvironment_v1_7 import ResourceManagerEnv\n",
    "from agent.QLearning import QLearningAgent"
   ]
  },
  {
   "cell_type": "code",
   "execution_count": 3,
   "metadata": {},
   "outputs": [],
   "source": [
    "register(\n",
    "    id='Resource-Manager-v1-7',\n",
    "    entry_point='environment.ResourceManagerEnvironment_v1_7:ResourceManagerEnv',\n",
    "    kwargs={\n",
    "        'grid_size': 20,           #set to desired grid size\n",
    "        'window_size': 400,        #set to desired window size\n",
    "        'num_water_resources': 20,  #set to desired number of water resources\n",
    "        'render_mode': 'rgb_array'     #set to desired render mode ('human' or 'rgb_array')\n",
    "    },\n",
    "    max_episode_steps=500,\n",
    ")\n"
   ]
  },
  {
   "cell_type": "code",
   "execution_count": 4,
   "metadata": {},
   "outputs": [
    {
     "name": "stderr",
     "output_type": "stream",
     "text": [
      "c:\\Users\\denni\\.conda\\envs\\tf\\lib\\site-packages\\gym\\utils\\passive_env_checker.py:31: UserWarning: \u001b[33mWARN: A Box observation space has an unconventional shape (neither an image, nor a 1D vector). We recommend flattening the observation to have only a 1D vector or use a custom policy to properly process the data. Actual observation shape: (20, 20)\u001b[0m\n",
      "  logger.warn(\n",
      "c:\\Users\\denni\\.conda\\envs\\tf\\lib\\site-packages\\gym\\utils\\passive_env_checker.py:187: UserWarning: \u001b[33mWARN: Future gym versions will require that `Env.reset` can be passed `options` to allow the environment initialisation to be passed additional information.\u001b[0m\n",
      "  logger.warn(\n",
      "c:\\Users\\denni\\.conda\\envs\\tf\\lib\\site-packages\\gym\\utils\\passive_env_checker.py:165: UserWarning: \u001b[33mWARN: The obs returned by the `reset()` method is not within the observation space.\u001b[0m\n",
      "  logger.warn(f\"{pre} is not within the observation space.\")\n",
      "c:\\Users\\denni\\.conda\\envs\\tf\\lib\\site-packages\\gym\\utils\\passive_env_checker.py:233: DeprecationWarning: `np.bool8` is a deprecated alias for `np.bool_`.  (Deprecated NumPy 1.24)\n",
      "  if not isinstance(terminated, (bool, np.bool8)):\n",
      "c:\\Users\\denni\\.conda\\envs\\tf\\lib\\site-packages\\gym\\utils\\passive_env_checker.py:165: UserWarning: \u001b[33mWARN: The obs returned by the `step()` method is not within the observation space.\u001b[0m\n",
      "  logger.warn(f\"{pre} is not within the observation space.\")\n"
     ]
    },
    {
     "name": "stdout",
     "output_type": "stream",
     "text": [
      "Episode 1, Total Reward: -1001, Total Water Resource: 35.5\n",
      "Episode 2, Total Reward: -1001, Total Water Resource: 72.0\n",
      "Episode 3, Total Reward: -1001, Total Water Resource: 74.5\n",
      "Episode 4, Total Reward: -1001, Total Water Resource: 74.5\n",
      "Episode 5, Total Reward: -1002, Total Water Resource: 69.5\n"
     ]
    }
   ],
   "source": [
    "\n",
    "env = gym.make('Resource-Manager-v1-7')\n",
    "\n",
    "#Hyperparameters:\n",
    "\n",
    "learning_rate=0.1\n",
    "discount_factor=0.9\n",
    "exploration_prob=1.0\n",
    "epsilon_decay=0.995\n",
    "replay_buffer_size=1000\n",
    "batch_size=32\n",
    "\n",
    "agent = QLearningAgent(env, learning_rate, discount_factor, exploration_prob, epsilon_decay)\n",
    "num_episodes = 5\n",
    "\n",
    "episode_rewards = []\n",
    "episode_water_resources = []\n",
    "\n",
    "for episode in range(num_episodes):\n",
    "    observation = env.reset()\n",
    "    total_reward = 0\n",
    "\n",
    "    while True:\n",
    "        #select action using the Q-learning agent\n",
    "        action = agent.select_action(observation)\n",
    "        # Take a step in the environment\n",
    "        next_observation, reward, done, _, _ = env.step(action)\n",
    "\n",
    "        total_reward += reward\n",
    "\n",
    "        #update the Q-table\n",
    "        agent.update_q_table(observation, action, reward, next_observation)\n",
    "\n",
    "        observation = next_observation\n",
    "\n",
    "        if done:\n",
    "            break\n",
    "\n",
    "    episode_rewards.append(total_reward)\n",
    "    episode_water_resources.append(env.water_resource)\n",
    "\n",
    "    print(f\"Episode {episode + 1}, Total Reward: {total_reward}, Total Water Resource: {env.water_resource}\")"
   ]
  },
  {
   "cell_type": "code",
   "execution_count": null,
   "metadata": {},
   "outputs": [],
   "source": []
  }
 ],
 "metadata": {
  "kernelspec": {
   "display_name": "rl",
   "language": "python",
   "name": "python3"
  },
  "language_info": {
   "codemirror_mode": {
    "name": "ipython",
    "version": 3
   },
   "file_extension": ".py",
   "mimetype": "text/x-python",
   "name": "python",
   "nbconvert_exporter": "python",
   "pygments_lexer": "ipython3",
   "version": "3.10.9"
  }
 },
 "nbformat": 4,
 "nbformat_minor": 2
}
